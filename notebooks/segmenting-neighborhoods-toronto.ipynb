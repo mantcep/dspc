{
 "cells": [
  {
   "cell_type": "markdown",
   "metadata": {},
   "source": [
    "# Segmenting and Clustering Neighborhoods in Toronto"
   ]
  },
  {
   "cell_type": "markdown",
   "metadata": {},
   "source": [
    "This notebook is dedicated to the assignment with the above name in the Data Science Professional Certificate course. This assignment is a preparatory for the Capstone Project."
   ]
  },
  {
   "cell_type": "code",
   "execution_count": 1,
   "metadata": {},
   "outputs": [],
   "source": [
    "import pandas as pd\n",
    "import numpy as np\n",
    "import matplotlib.pyplot as plt\n",
    "import geocoder\n",
    "import folium\n",
    "import utils\n",
    "from sklearn.cluster import KMeans\n",
    "from sklearn import metrics\n",
    "from scipy.spatial.distance import cdist\n",
    "plt.style.use('ggplot')"
   ]
  },
  {
   "cell_type": "markdown",
   "metadata": {},
   "source": [
    "### Part I: Prepare Data"
   ]
  },
  {
   "cell_type": "code",
   "execution_count": 2,
   "metadata": {},
   "outputs": [],
   "source": [
    "wiki_tables = pd.read_html('https://en.wikipedia.org/wiki/List_of_postal_codes_of_Canada:_M')"
   ]
  },
  {
   "cell_type": "code",
   "execution_count": 3,
   "metadata": {},
   "outputs": [
    {
     "data": {
      "text/html": [
       "<div>\n",
       "<style scoped>\n",
       "    .dataframe tbody tr th:only-of-type {\n",
       "        vertical-align: middle;\n",
       "    }\n",
       "\n",
       "    .dataframe tbody tr th {\n",
       "        vertical-align: top;\n",
       "    }\n",
       "\n",
       "    .dataframe thead th {\n",
       "        text-align: right;\n",
       "    }\n",
       "</style>\n",
       "<table border=\"1\" class=\"dataframe\">\n",
       "  <thead>\n",
       "    <tr style=\"text-align: right;\">\n",
       "      <th></th>\n",
       "      <th>Postcode</th>\n",
       "      <th>Borough</th>\n",
       "      <th>Neighbourhood</th>\n",
       "    </tr>\n",
       "  </thead>\n",
       "  <tbody>\n",
       "    <tr>\n",
       "      <th>0</th>\n",
       "      <td>M1A</td>\n",
       "      <td>Not assigned</td>\n",
       "      <td>Not assigned</td>\n",
       "    </tr>\n",
       "    <tr>\n",
       "      <th>1</th>\n",
       "      <td>M2A</td>\n",
       "      <td>Not assigned</td>\n",
       "      <td>Not assigned</td>\n",
       "    </tr>\n",
       "    <tr>\n",
       "      <th>2</th>\n",
       "      <td>M3A</td>\n",
       "      <td>North York</td>\n",
       "      <td>Parkwoods</td>\n",
       "    </tr>\n",
       "    <tr>\n",
       "      <th>3</th>\n",
       "      <td>M4A</td>\n",
       "      <td>North York</td>\n",
       "      <td>Victoria Village</td>\n",
       "    </tr>\n",
       "    <tr>\n",
       "      <th>4</th>\n",
       "      <td>M5A</td>\n",
       "      <td>Downtown Toronto</td>\n",
       "      <td>Harbourfront</td>\n",
       "    </tr>\n",
       "    <tr>\n",
       "      <th>...</th>\n",
       "      <td>...</td>\n",
       "      <td>...</td>\n",
       "      <td>...</td>\n",
       "    </tr>\n",
       "    <tr>\n",
       "      <th>282</th>\n",
       "      <td>M8Z</td>\n",
       "      <td>Etobicoke</td>\n",
       "      <td>Mimico NW</td>\n",
       "    </tr>\n",
       "    <tr>\n",
       "      <th>283</th>\n",
       "      <td>M8Z</td>\n",
       "      <td>Etobicoke</td>\n",
       "      <td>The Queensway West</td>\n",
       "    </tr>\n",
       "    <tr>\n",
       "      <th>284</th>\n",
       "      <td>M8Z</td>\n",
       "      <td>Etobicoke</td>\n",
       "      <td>Royal York South West</td>\n",
       "    </tr>\n",
       "    <tr>\n",
       "      <th>285</th>\n",
       "      <td>M8Z</td>\n",
       "      <td>Etobicoke</td>\n",
       "      <td>South of Bloor</td>\n",
       "    </tr>\n",
       "    <tr>\n",
       "      <th>286</th>\n",
       "      <td>M9Z</td>\n",
       "      <td>Not assigned</td>\n",
       "      <td>Not assigned</td>\n",
       "    </tr>\n",
       "  </tbody>\n",
       "</table>\n",
       "<p>287 rows × 3 columns</p>\n",
       "</div>"
      ],
      "text/plain": [
       "    Postcode           Borough          Neighbourhood\n",
       "0        M1A      Not assigned           Not assigned\n",
       "1        M2A      Not assigned           Not assigned\n",
       "2        M3A        North York              Parkwoods\n",
       "3        M4A        North York       Victoria Village\n",
       "4        M5A  Downtown Toronto           Harbourfront\n",
       "..       ...               ...                    ...\n",
       "282      M8Z         Etobicoke              Mimico NW\n",
       "283      M8Z         Etobicoke     The Queensway West\n",
       "284      M8Z         Etobicoke  Royal York South West\n",
       "285      M8Z         Etobicoke         South of Bloor\n",
       "286      M9Z      Not assigned           Not assigned\n",
       "\n",
       "[287 rows x 3 columns]"
      ]
     },
     "execution_count": 3,
     "metadata": {},
     "output_type": "execute_result"
    }
   ],
   "source": [
    "wiki_tables[0]"
   ]
  },
  {
   "cell_type": "markdown",
   "metadata": {},
   "source": [
    "This is the target table."
   ]
  },
  {
   "cell_type": "code",
   "execution_count": 4,
   "metadata": {},
   "outputs": [],
   "source": [
    "df = wiki_tables[0]"
   ]
  },
  {
   "cell_type": "markdown",
   "metadata": {},
   "source": [
    "Remove cells that have a \"Not assigned\" borough."
   ]
  },
  {
   "cell_type": "code",
   "execution_count": 5,
   "metadata": {},
   "outputs": [],
   "source": [
    "df = df[df['Borough'] != 'Not assigned']"
   ]
  },
  {
   "cell_type": "code",
   "execution_count": 6,
   "metadata": {},
   "outputs": [
    {
     "data": {
      "text/html": [
       "<div>\n",
       "<style scoped>\n",
       "    .dataframe tbody tr th:only-of-type {\n",
       "        vertical-align: middle;\n",
       "    }\n",
       "\n",
       "    .dataframe tbody tr th {\n",
       "        vertical-align: top;\n",
       "    }\n",
       "\n",
       "    .dataframe thead th {\n",
       "        text-align: right;\n",
       "    }\n",
       "</style>\n",
       "<table border=\"1\" class=\"dataframe\">\n",
       "  <thead>\n",
       "    <tr style=\"text-align: right;\">\n",
       "      <th></th>\n",
       "      <th>Postcode</th>\n",
       "      <th>Borough</th>\n",
       "      <th>Neighbourhood</th>\n",
       "    </tr>\n",
       "  </thead>\n",
       "  <tbody>\n",
       "    <tr>\n",
       "      <th>2</th>\n",
       "      <td>M3A</td>\n",
       "      <td>North York</td>\n",
       "      <td>Parkwoods</td>\n",
       "    </tr>\n",
       "    <tr>\n",
       "      <th>3</th>\n",
       "      <td>M4A</td>\n",
       "      <td>North York</td>\n",
       "      <td>Victoria Village</td>\n",
       "    </tr>\n",
       "    <tr>\n",
       "      <th>4</th>\n",
       "      <td>M5A</td>\n",
       "      <td>Downtown Toronto</td>\n",
       "      <td>Harbourfront</td>\n",
       "    </tr>\n",
       "    <tr>\n",
       "      <th>5</th>\n",
       "      <td>M6A</td>\n",
       "      <td>North York</td>\n",
       "      <td>Lawrence Heights</td>\n",
       "    </tr>\n",
       "    <tr>\n",
       "      <th>6</th>\n",
       "      <td>M6A</td>\n",
       "      <td>North York</td>\n",
       "      <td>Lawrence Manor</td>\n",
       "    </tr>\n",
       "  </tbody>\n",
       "</table>\n",
       "</div>"
      ],
      "text/plain": [
       "  Postcode           Borough     Neighbourhood\n",
       "2      M3A        North York         Parkwoods\n",
       "3      M4A        North York  Victoria Village\n",
       "4      M5A  Downtown Toronto      Harbourfront\n",
       "5      M6A        North York  Lawrence Heights\n",
       "6      M6A        North York    Lawrence Manor"
      ]
     },
     "execution_count": 6,
     "metadata": {},
     "output_type": "execute_result"
    }
   ],
   "source": [
    "df.head()"
   ]
  },
  {
   "cell_type": "markdown",
   "metadata": {},
   "source": [
    "Merge rows that correspond to the same postcode."
   ]
  },
  {
   "cell_type": "code",
   "execution_count": 7,
   "metadata": {},
   "outputs": [],
   "source": [
    "df = df.groupby(['Postcode', 'Borough'])['Neighbourhood'].apply(', '.join).reset_index()"
   ]
  },
  {
   "cell_type": "code",
   "execution_count": 8,
   "metadata": {},
   "outputs": [
    {
     "data": {
      "text/html": [
       "<div>\n",
       "<style scoped>\n",
       "    .dataframe tbody tr th:only-of-type {\n",
       "        vertical-align: middle;\n",
       "    }\n",
       "\n",
       "    .dataframe tbody tr th {\n",
       "        vertical-align: top;\n",
       "    }\n",
       "\n",
       "    .dataframe thead th {\n",
       "        text-align: right;\n",
       "    }\n",
       "</style>\n",
       "<table border=\"1\" class=\"dataframe\">\n",
       "  <thead>\n",
       "    <tr style=\"text-align: right;\">\n",
       "      <th></th>\n",
       "      <th>Postcode</th>\n",
       "      <th>Borough</th>\n",
       "      <th>Neighbourhood</th>\n",
       "    </tr>\n",
       "  </thead>\n",
       "  <tbody>\n",
       "    <tr>\n",
       "      <th>71</th>\n",
       "      <td>M6A</td>\n",
       "      <td>North York</td>\n",
       "      <td>Lawrence Heights, Lawrence Manor</td>\n",
       "    </tr>\n",
       "  </tbody>\n",
       "</table>\n",
       "</div>"
      ],
      "text/plain": [
       "   Postcode     Borough                     Neighbourhood\n",
       "71      M6A  North York  Lawrence Heights, Lawrence Manor"
      ]
     },
     "execution_count": 8,
     "metadata": {},
     "output_type": "execute_result"
    }
   ],
   "source": [
    "df[df['Postcode'] == 'M6A']"
   ]
  },
  {
   "cell_type": "markdown",
   "metadata": {},
   "source": [
    "Assign borough's name to the neighborhood if the neighborhood is not assigned."
   ]
  },
  {
   "cell_type": "code",
   "execution_count": 9,
   "metadata": {},
   "outputs": [
    {
     "data": {
      "text/html": [
       "<div>\n",
       "<style scoped>\n",
       "    .dataframe tbody tr th:only-of-type {\n",
       "        vertical-align: middle;\n",
       "    }\n",
       "\n",
       "    .dataframe tbody tr th {\n",
       "        vertical-align: top;\n",
       "    }\n",
       "\n",
       "    .dataframe thead th {\n",
       "        text-align: right;\n",
       "    }\n",
       "</style>\n",
       "<table border=\"1\" class=\"dataframe\">\n",
       "  <thead>\n",
       "    <tr style=\"text-align: right;\">\n",
       "      <th></th>\n",
       "      <th>Postcode</th>\n",
       "      <th>Borough</th>\n",
       "      <th>Neighbourhood</th>\n",
       "    </tr>\n",
       "  </thead>\n",
       "  <tbody>\n",
       "    <tr>\n",
       "      <th>93</th>\n",
       "      <td>M9A</td>\n",
       "      <td>Queen's Park</td>\n",
       "      <td>Not assigned</td>\n",
       "    </tr>\n",
       "  </tbody>\n",
       "</table>\n",
       "</div>"
      ],
      "text/plain": [
       "   Postcode       Borough Neighbourhood\n",
       "93      M9A  Queen's Park  Not assigned"
      ]
     },
     "execution_count": 9,
     "metadata": {},
     "output_type": "execute_result"
    }
   ],
   "source": [
    "df[df['Neighbourhood'] == 'Not assigned']"
   ]
  },
  {
   "cell_type": "code",
   "execution_count": 10,
   "metadata": {},
   "outputs": [],
   "source": [
    "df['Neighbourhood'] = np.where(df['Neighbourhood'] == 'Not assigned', df['Borough'], df['Neighbourhood'])"
   ]
  },
  {
   "cell_type": "code",
   "execution_count": 11,
   "metadata": {},
   "outputs": [
    {
     "data": {
      "text/html": [
       "<div>\n",
       "<style scoped>\n",
       "    .dataframe tbody tr th:only-of-type {\n",
       "        vertical-align: middle;\n",
       "    }\n",
       "\n",
       "    .dataframe tbody tr th {\n",
       "        vertical-align: top;\n",
       "    }\n",
       "\n",
       "    .dataframe thead th {\n",
       "        text-align: right;\n",
       "    }\n",
       "</style>\n",
       "<table border=\"1\" class=\"dataframe\">\n",
       "  <thead>\n",
       "    <tr style=\"text-align: right;\">\n",
       "      <th></th>\n",
       "      <th>Postcode</th>\n",
       "      <th>Borough</th>\n",
       "      <th>Neighbourhood</th>\n",
       "    </tr>\n",
       "  </thead>\n",
       "  <tbody>\n",
       "    <tr>\n",
       "      <th>93</th>\n",
       "      <td>M9A</td>\n",
       "      <td>Queen's Park</td>\n",
       "      <td>Queen's Park</td>\n",
       "    </tr>\n",
       "  </tbody>\n",
       "</table>\n",
       "</div>"
      ],
      "text/plain": [
       "   Postcode       Borough Neighbourhood\n",
       "93      M9A  Queen's Park  Queen's Park"
      ]
     },
     "execution_count": 11,
     "metadata": {},
     "output_type": "execute_result"
    }
   ],
   "source": [
    "df[df['Postcode'] == 'M9A']"
   ]
  },
  {
   "cell_type": "markdown",
   "metadata": {},
   "source": [
    "Print shape of the cleaned dataframe."
   ]
  },
  {
   "cell_type": "code",
   "execution_count": 12,
   "metadata": {},
   "outputs": [
    {
     "data": {
      "text/plain": [
       "(103, 3)"
      ]
     },
     "execution_count": 12,
     "metadata": {},
     "output_type": "execute_result"
    }
   ],
   "source": [
    "df.shape"
   ]
  },
  {
   "cell_type": "markdown",
   "metadata": {},
   "source": [
    "### Part II: Extract Coordinates"
   ]
  },
  {
   "cell_type": "markdown",
   "metadata": {},
   "source": [
    "Use below to get the coordinates using geocoder library. This package is unreliable and did not work for me."
   ]
  },
  {
   "cell_type": "code",
   "execution_count": 13,
   "metadata": {},
   "outputs": [
    {
     "data": {
      "text/plain": [
       "\"\\nfor index, row in df.iterrows():\\n    lat_lng_coords = None\\n    postal_code = row['Postcode']\\n    \\n    while lat_lng_coords is None:\\n        g = geocoder.google(f'{postal_code}, Toronto, Ontario')\\n        lat_lng_coords = g.latlng\\n        \\n    latitude = lat_lng_coords[0]\\n    longitude = lat_lng_coords[1]\\n    \\n    df.loc[index, 'Latitude'] = latitude\\n    df.loc[index, 'Longitude'] = longitude\\n    \\n    if (index % 9) == 0:\\n        print('10 rows processed')\\n\""
      ]
     },
     "execution_count": 13,
     "metadata": {},
     "output_type": "execute_result"
    }
   ],
   "source": [
    "\"\"\"\n",
    "for index, row in df.iterrows():\n",
    "    lat_lng_coords = None\n",
    "    postal_code = row['Postcode']\n",
    "    \n",
    "    while lat_lng_coords is None:\n",
    "        g = geocoder.google(f'{postal_code}, Toronto, Ontario')\n",
    "        lat_lng_coords = g.latlng\n",
    "        \n",
    "    latitude = lat_lng_coords[0]\n",
    "    longitude = lat_lng_coords[1]\n",
    "    \n",
    "    df.loc[index, 'Latitude'] = latitude\n",
    "    df.loc[index, 'Longitude'] = longitude\n",
    "    \n",
    "    if (index % 9) == 0:\n",
    "        print('10 rows processed')\n",
    "\"\"\""
   ]
  },
  {
   "cell_type": "markdown",
   "metadata": {},
   "source": [
    "Extract coordinates using a csv with the data."
   ]
  },
  {
   "cell_type": "code",
   "execution_count": 14,
   "metadata": {},
   "outputs": [],
   "source": [
    "df_coord = pd.read_csv('../data/Geospatial_Coordinates.csv')"
   ]
  },
  {
   "cell_type": "code",
   "execution_count": 15,
   "metadata": {},
   "outputs": [
    {
     "data": {
      "text/html": [
       "<div>\n",
       "<style scoped>\n",
       "    .dataframe tbody tr th:only-of-type {\n",
       "        vertical-align: middle;\n",
       "    }\n",
       "\n",
       "    .dataframe tbody tr th {\n",
       "        vertical-align: top;\n",
       "    }\n",
       "\n",
       "    .dataframe thead th {\n",
       "        text-align: right;\n",
       "    }\n",
       "</style>\n",
       "<table border=\"1\" class=\"dataframe\">\n",
       "  <thead>\n",
       "    <tr style=\"text-align: right;\">\n",
       "      <th></th>\n",
       "      <th>Postal Code</th>\n",
       "      <th>Latitude</th>\n",
       "      <th>Longitude</th>\n",
       "    </tr>\n",
       "  </thead>\n",
       "  <tbody>\n",
       "    <tr>\n",
       "      <th>0</th>\n",
       "      <td>M1B</td>\n",
       "      <td>43.806686</td>\n",
       "      <td>-79.194353</td>\n",
       "    </tr>\n",
       "    <tr>\n",
       "      <th>1</th>\n",
       "      <td>M1C</td>\n",
       "      <td>43.784535</td>\n",
       "      <td>-79.160497</td>\n",
       "    </tr>\n",
       "    <tr>\n",
       "      <th>2</th>\n",
       "      <td>M1E</td>\n",
       "      <td>43.763573</td>\n",
       "      <td>-79.188711</td>\n",
       "    </tr>\n",
       "    <tr>\n",
       "      <th>3</th>\n",
       "      <td>M1G</td>\n",
       "      <td>43.770992</td>\n",
       "      <td>-79.216917</td>\n",
       "    </tr>\n",
       "    <tr>\n",
       "      <th>4</th>\n",
       "      <td>M1H</td>\n",
       "      <td>43.773136</td>\n",
       "      <td>-79.239476</td>\n",
       "    </tr>\n",
       "  </tbody>\n",
       "</table>\n",
       "</div>"
      ],
      "text/plain": [
       "  Postal Code   Latitude  Longitude\n",
       "0         M1B  43.806686 -79.194353\n",
       "1         M1C  43.784535 -79.160497\n",
       "2         M1E  43.763573 -79.188711\n",
       "3         M1G  43.770992 -79.216917\n",
       "4         M1H  43.773136 -79.239476"
      ]
     },
     "execution_count": 15,
     "metadata": {},
     "output_type": "execute_result"
    }
   ],
   "source": [
    "df_coord.head()"
   ]
  },
  {
   "cell_type": "code",
   "execution_count": 16,
   "metadata": {},
   "outputs": [
    {
     "name": "stdout",
     "output_type": "stream",
     "text": [
      "<class 'pandas.core.frame.DataFrame'>\n",
      "RangeIndex: 103 entries, 0 to 102\n",
      "Data columns (total 3 columns):\n",
      " #   Column       Non-Null Count  Dtype  \n",
      "---  ------       --------------  -----  \n",
      " 0   Postal Code  103 non-null    object \n",
      " 1   Latitude     103 non-null    float64\n",
      " 2   Longitude    103 non-null    float64\n",
      "dtypes: float64(2), object(1)\n",
      "memory usage: 2.5+ KB\n"
     ]
    }
   ],
   "source": [
    "df_coord.info()"
   ]
  },
  {
   "cell_type": "code",
   "execution_count": 17,
   "metadata": {},
   "outputs": [],
   "source": [
    "df = df.merge(df_coord, left_on='Postcode', right_on='Postal Code')"
   ]
  },
  {
   "cell_type": "code",
   "execution_count": 18,
   "metadata": {},
   "outputs": [
    {
     "data": {
      "text/html": [
       "<div>\n",
       "<style scoped>\n",
       "    .dataframe tbody tr th:only-of-type {\n",
       "        vertical-align: middle;\n",
       "    }\n",
       "\n",
       "    .dataframe tbody tr th {\n",
       "        vertical-align: top;\n",
       "    }\n",
       "\n",
       "    .dataframe thead th {\n",
       "        text-align: right;\n",
       "    }\n",
       "</style>\n",
       "<table border=\"1\" class=\"dataframe\">\n",
       "  <thead>\n",
       "    <tr style=\"text-align: right;\">\n",
       "      <th></th>\n",
       "      <th>Postcode</th>\n",
       "      <th>Borough</th>\n",
       "      <th>Neighbourhood</th>\n",
       "      <th>Postal Code</th>\n",
       "      <th>Latitude</th>\n",
       "      <th>Longitude</th>\n",
       "    </tr>\n",
       "  </thead>\n",
       "  <tbody>\n",
       "    <tr>\n",
       "      <th>0</th>\n",
       "      <td>M1B</td>\n",
       "      <td>Scarborough</td>\n",
       "      <td>Rouge, Malvern</td>\n",
       "      <td>M1B</td>\n",
       "      <td>43.806686</td>\n",
       "      <td>-79.194353</td>\n",
       "    </tr>\n",
       "    <tr>\n",
       "      <th>1</th>\n",
       "      <td>M1C</td>\n",
       "      <td>Scarborough</td>\n",
       "      <td>Highland Creek, Rouge Hill, Port Union</td>\n",
       "      <td>M1C</td>\n",
       "      <td>43.784535</td>\n",
       "      <td>-79.160497</td>\n",
       "    </tr>\n",
       "    <tr>\n",
       "      <th>2</th>\n",
       "      <td>M1E</td>\n",
       "      <td>Scarborough</td>\n",
       "      <td>Guildwood, Morningside, West Hill</td>\n",
       "      <td>M1E</td>\n",
       "      <td>43.763573</td>\n",
       "      <td>-79.188711</td>\n",
       "    </tr>\n",
       "    <tr>\n",
       "      <th>3</th>\n",
       "      <td>M1G</td>\n",
       "      <td>Scarborough</td>\n",
       "      <td>Woburn</td>\n",
       "      <td>M1G</td>\n",
       "      <td>43.770992</td>\n",
       "      <td>-79.216917</td>\n",
       "    </tr>\n",
       "    <tr>\n",
       "      <th>4</th>\n",
       "      <td>M1H</td>\n",
       "      <td>Scarborough</td>\n",
       "      <td>Cedarbrae</td>\n",
       "      <td>M1H</td>\n",
       "      <td>43.773136</td>\n",
       "      <td>-79.239476</td>\n",
       "    </tr>\n",
       "  </tbody>\n",
       "</table>\n",
       "</div>"
      ],
      "text/plain": [
       "  Postcode      Borough                           Neighbourhood Postal Code  \\\n",
       "0      M1B  Scarborough                          Rouge, Malvern         M1B   \n",
       "1      M1C  Scarborough  Highland Creek, Rouge Hill, Port Union         M1C   \n",
       "2      M1E  Scarborough       Guildwood, Morningside, West Hill         M1E   \n",
       "3      M1G  Scarborough                                  Woburn         M1G   \n",
       "4      M1H  Scarborough                               Cedarbrae         M1H   \n",
       "\n",
       "    Latitude  Longitude  \n",
       "0  43.806686 -79.194353  \n",
       "1  43.784535 -79.160497  \n",
       "2  43.763573 -79.188711  \n",
       "3  43.770992 -79.216917  \n",
       "4  43.773136 -79.239476  "
      ]
     },
     "execution_count": 18,
     "metadata": {},
     "output_type": "execute_result"
    }
   ],
   "source": [
    "df.head()"
   ]
  },
  {
   "cell_type": "code",
   "execution_count": 19,
   "metadata": {},
   "outputs": [],
   "source": [
    "df.drop(columns='Postal Code', inplace=True)"
   ]
  },
  {
   "cell_type": "code",
   "execution_count": 20,
   "metadata": {},
   "outputs": [
    {
     "data": {
      "text/html": [
       "<div>\n",
       "<style scoped>\n",
       "    .dataframe tbody tr th:only-of-type {\n",
       "        vertical-align: middle;\n",
       "    }\n",
       "\n",
       "    .dataframe tbody tr th {\n",
       "        vertical-align: top;\n",
       "    }\n",
       "\n",
       "    .dataframe thead th {\n",
       "        text-align: right;\n",
       "    }\n",
       "</style>\n",
       "<table border=\"1\" class=\"dataframe\">\n",
       "  <thead>\n",
       "    <tr style=\"text-align: right;\">\n",
       "      <th></th>\n",
       "      <th>Postcode</th>\n",
       "      <th>Borough</th>\n",
       "      <th>Neighbourhood</th>\n",
       "      <th>Latitude</th>\n",
       "      <th>Longitude</th>\n",
       "    </tr>\n",
       "  </thead>\n",
       "  <tbody>\n",
       "    <tr>\n",
       "      <th>0</th>\n",
       "      <td>M1B</td>\n",
       "      <td>Scarborough</td>\n",
       "      <td>Rouge, Malvern</td>\n",
       "      <td>43.806686</td>\n",
       "      <td>-79.194353</td>\n",
       "    </tr>\n",
       "    <tr>\n",
       "      <th>1</th>\n",
       "      <td>M1C</td>\n",
       "      <td>Scarborough</td>\n",
       "      <td>Highland Creek, Rouge Hill, Port Union</td>\n",
       "      <td>43.784535</td>\n",
       "      <td>-79.160497</td>\n",
       "    </tr>\n",
       "    <tr>\n",
       "      <th>2</th>\n",
       "      <td>M1E</td>\n",
       "      <td>Scarborough</td>\n",
       "      <td>Guildwood, Morningside, West Hill</td>\n",
       "      <td>43.763573</td>\n",
       "      <td>-79.188711</td>\n",
       "    </tr>\n",
       "    <tr>\n",
       "      <th>3</th>\n",
       "      <td>M1G</td>\n",
       "      <td>Scarborough</td>\n",
       "      <td>Woburn</td>\n",
       "      <td>43.770992</td>\n",
       "      <td>-79.216917</td>\n",
       "    </tr>\n",
       "    <tr>\n",
       "      <th>4</th>\n",
       "      <td>M1H</td>\n",
       "      <td>Scarborough</td>\n",
       "      <td>Cedarbrae</td>\n",
       "      <td>43.773136</td>\n",
       "      <td>-79.239476</td>\n",
       "    </tr>\n",
       "  </tbody>\n",
       "</table>\n",
       "</div>"
      ],
      "text/plain": [
       "  Postcode      Borough                           Neighbourhood   Latitude  \\\n",
       "0      M1B  Scarborough                          Rouge, Malvern  43.806686   \n",
       "1      M1C  Scarborough  Highland Creek, Rouge Hill, Port Union  43.784535   \n",
       "2      M1E  Scarborough       Guildwood, Morningside, West Hill  43.763573   \n",
       "3      M1G  Scarborough                                  Woburn  43.770992   \n",
       "4      M1H  Scarborough                               Cedarbrae  43.773136   \n",
       "\n",
       "   Longitude  \n",
       "0 -79.194353  \n",
       "1 -79.160497  \n",
       "2 -79.188711  \n",
       "3 -79.216917  \n",
       "4 -79.239476  "
      ]
     },
     "execution_count": 20,
     "metadata": {},
     "output_type": "execute_result"
    }
   ],
   "source": [
    "df.head()"
   ]
  },
  {
   "cell_type": "markdown",
   "metadata": {},
   "source": [
    "### Part III: Cluster Toronto Neighborhoods"
   ]
  },
  {
   "cell_type": "markdown",
   "metadata": {},
   "source": [
    "Coordinates of Toronto (got them manually by doing a Google search):"
   ]
  },
  {
   "cell_type": "code",
   "execution_count": 21,
   "metadata": {},
   "outputs": [],
   "source": [
    "toronto_lat = 43.6532\n",
    "toronto_lng = -79.3832"
   ]
  },
  {
   "cell_type": "markdown",
   "metadata": {},
   "source": [
    "Filter Toronto neighborhoods."
   ]
  },
  {
   "cell_type": "code",
   "execution_count": 22,
   "metadata": {},
   "outputs": [],
   "source": [
    "df_tor = df[df['Borough'].str.contains('Toronto')]"
   ]
  },
  {
   "cell_type": "code",
   "execution_count": 23,
   "metadata": {},
   "outputs": [
    {
     "data": {
      "text/html": [
       "<div>\n",
       "<style scoped>\n",
       "    .dataframe tbody tr th:only-of-type {\n",
       "        vertical-align: middle;\n",
       "    }\n",
       "\n",
       "    .dataframe tbody tr th {\n",
       "        vertical-align: top;\n",
       "    }\n",
       "\n",
       "    .dataframe thead th {\n",
       "        text-align: right;\n",
       "    }\n",
       "</style>\n",
       "<table border=\"1\" class=\"dataframe\">\n",
       "  <thead>\n",
       "    <tr style=\"text-align: right;\">\n",
       "      <th></th>\n",
       "      <th>Postcode</th>\n",
       "      <th>Borough</th>\n",
       "      <th>Neighbourhood</th>\n",
       "      <th>Latitude</th>\n",
       "      <th>Longitude</th>\n",
       "    </tr>\n",
       "  </thead>\n",
       "  <tbody>\n",
       "    <tr>\n",
       "      <th>37</th>\n",
       "      <td>M4E</td>\n",
       "      <td>East Toronto</td>\n",
       "      <td>The Beaches</td>\n",
       "      <td>43.676357</td>\n",
       "      <td>-79.293031</td>\n",
       "    </tr>\n",
       "    <tr>\n",
       "      <th>41</th>\n",
       "      <td>M4K</td>\n",
       "      <td>East Toronto</td>\n",
       "      <td>The Danforth West, Riverdale</td>\n",
       "      <td>43.679557</td>\n",
       "      <td>-79.352188</td>\n",
       "    </tr>\n",
       "    <tr>\n",
       "      <th>42</th>\n",
       "      <td>M4L</td>\n",
       "      <td>East Toronto</td>\n",
       "      <td>The Beaches West, India Bazaar</td>\n",
       "      <td>43.668999</td>\n",
       "      <td>-79.315572</td>\n",
       "    </tr>\n",
       "    <tr>\n",
       "      <th>43</th>\n",
       "      <td>M4M</td>\n",
       "      <td>East Toronto</td>\n",
       "      <td>Studio District</td>\n",
       "      <td>43.659526</td>\n",
       "      <td>-79.340923</td>\n",
       "    </tr>\n",
       "    <tr>\n",
       "      <th>44</th>\n",
       "      <td>M4N</td>\n",
       "      <td>Central Toronto</td>\n",
       "      <td>Lawrence Park</td>\n",
       "      <td>43.728020</td>\n",
       "      <td>-79.388790</td>\n",
       "    </tr>\n",
       "  </tbody>\n",
       "</table>\n",
       "</div>"
      ],
      "text/plain": [
       "   Postcode          Borough                   Neighbourhood   Latitude  \\\n",
       "37      M4E     East Toronto                     The Beaches  43.676357   \n",
       "41      M4K     East Toronto    The Danforth West, Riverdale  43.679557   \n",
       "42      M4L     East Toronto  The Beaches West, India Bazaar  43.668999   \n",
       "43      M4M     East Toronto                 Studio District  43.659526   \n",
       "44      M4N  Central Toronto                   Lawrence Park  43.728020   \n",
       "\n",
       "    Longitude  \n",
       "37 -79.293031  \n",
       "41 -79.352188  \n",
       "42 -79.315572  \n",
       "43 -79.340923  \n",
       "44 -79.388790  "
      ]
     },
     "execution_count": 23,
     "metadata": {},
     "output_type": "execute_result"
    }
   ],
   "source": [
    "df_tor.head()"
   ]
  },
  {
   "cell_type": "code",
   "execution_count": 24,
   "metadata": {},
   "outputs": [
    {
     "name": "stdout",
     "output_type": "stream",
     "text": [
      "<class 'pandas.core.frame.DataFrame'>\n",
      "Int64Index: 39 entries, 37 to 87\n",
      "Data columns (total 5 columns):\n",
      " #   Column         Non-Null Count  Dtype  \n",
      "---  ------         --------------  -----  \n",
      " 0   Postcode       39 non-null     object \n",
      " 1   Borough        39 non-null     object \n",
      " 2   Neighbourhood  39 non-null     object \n",
      " 3   Latitude       39 non-null     float64\n",
      " 4   Longitude      39 non-null     float64\n",
      "dtypes: float64(2), object(3)\n",
      "memory usage: 1.8+ KB\n"
     ]
    }
   ],
   "source": [
    "df_tor.info()"
   ]
  },
  {
   "cell_type": "markdown",
   "metadata": {},
   "source": [
    "Plot Toronto map with neighborhoods."
   ]
  },
  {
   "cell_type": "code",
   "execution_count": 25,
   "metadata": {},
   "outputs": [
    {
     "data": {
      "text/html": [
       "<div style=\"width:100%;\"><div style=\"position:relative;width:100%;height:0;padding-bottom:60%;\"><iframe src=\"data:text/html;charset=utf-8;base64,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\" style=\"position:absolute;width:100%;height:100%;left:0;top:0;border:none !important;\" allowfullscreen webkitallowfullscreen mozallowfullscreen></iframe></div></div>"
      ],
      "text/plain": [
       "<folium.folium.Map at 0x1262b40d0>"
      ]
     },
     "execution_count": 25,
     "metadata": {},
     "output_type": "execute_result"
    }
   ],
   "source": [
    "map_toronto = folium.Map(location=[toronto_lat, toronto_lng], zoom_start=12)\n",
    "\n",
    "for lat, lng, borough, neighborhood in zip(df_tor['Latitude'], df_tor['Longitude'], df_tor['Borough'], df_tor['Neighbourhood']):\n",
    "    label = f'{neighborhood}, {borough}'\n",
    "    label = folium.Popup(label, parse_html=True)\n",
    "    folium.CircleMarker(\n",
    "    [lat, lng],\n",
    "    radius=5,\n",
    "    popup=label,\n",
    "    color='blue',\n",
    "    fill=True,\n",
    "    fill_color='#3186cc',\n",
    "    fill_opacity=0.7,\n",
    "    parse_html=False).add_to(map_toronto)\n",
    "    \n",
    "map_toronto"
   ]
  },
  {
   "cell_type": "markdown",
   "metadata": {},
   "source": [
    "Get Toronto venues for each neighborhood using the Foursquare API. See the function in utils.py for details."
   ]
  },
  {
   "cell_type": "code",
   "execution_count": 26,
   "metadata": {},
   "outputs": [
    {
     "name": "stdout",
     "output_type": "stream",
     "text": [
      "The Beaches\n",
      "The Danforth West, Riverdale\n",
      "The Beaches West, India Bazaar\n",
      "Studio District\n",
      "Lawrence Park\n",
      "Davisville North\n",
      "North Toronto West\n",
      "Davisville\n",
      "Moore Park, Summerhill East\n",
      "Deer Park, Forest Hill SE, Rathnelly, South Hill, Summerhill West\n",
      "Rosedale\n",
      "Cabbagetown, St. James Town\n",
      "Church and Wellesley\n",
      "Harbourfront\n",
      "Ryerson, Garden District\n",
      "St. James Town\n",
      "Berczy Park\n",
      "Central Bay Street\n",
      "Adelaide, King, Richmond\n",
      "Harbourfront East, Toronto Islands, Union Station\n",
      "Design Exchange, Toronto Dominion Centre\n",
      "Commerce Court, Victoria Hotel\n",
      "Roselawn\n",
      "Forest Hill North, Forest Hill West\n",
      "The Annex, North Midtown, Yorkville\n",
      "Harbord, University of Toronto\n",
      "Chinatown, Grange Park, Kensington Market\n",
      "CN Tower, Bathurst Quay, Island airport, Harbourfront West, King and Spadina, Railway Lands, South Niagara\n",
      "Stn A PO Boxes 25 The Esplanade\n",
      "First Canadian Place, Underground city\n",
      "Christie\n",
      "Dovercourt Village, Dufferin\n",
      "Little Portugal, Trinity\n",
      "Brockton, Exhibition Place, Parkdale Village\n",
      "High Park, The Junction South\n",
      "Parkdale, Roncesvalles\n",
      "Runnymede, Swansea\n",
      "Queen's Park\n",
      "Business Reply Mail Processing Centre 969 Eastern\n"
     ]
    }
   ],
   "source": [
    "# Add Foursquare API key, secret and version to utils.py for this to work\n",
    "toronto_venues = utils.get_nearby_venues(names=df_tor['Neighbourhood'],\n",
    "                                         latitudes=df_tor['Latitude'],\n",
    "                                         longitudes=df_tor['Longitude'])"
   ]
  },
  {
   "cell_type": "code",
   "execution_count": 27,
   "metadata": {},
   "outputs": [
    {
     "data": {
      "text/html": [
       "<div>\n",
       "<style scoped>\n",
       "    .dataframe tbody tr th:only-of-type {\n",
       "        vertical-align: middle;\n",
       "    }\n",
       "\n",
       "    .dataframe tbody tr th {\n",
       "        vertical-align: top;\n",
       "    }\n",
       "\n",
       "    .dataframe thead th {\n",
       "        text-align: right;\n",
       "    }\n",
       "</style>\n",
       "<table border=\"1\" class=\"dataframe\">\n",
       "  <thead>\n",
       "    <tr style=\"text-align: right;\">\n",
       "      <th></th>\n",
       "      <th>Neighborhood</th>\n",
       "      <th>Neighborhood Latitude</th>\n",
       "      <th>Neighborhood Longitude</th>\n",
       "      <th>Venue</th>\n",
       "      <th>Venue Latitude</th>\n",
       "      <th>Venue Longitude</th>\n",
       "      <th>Venue Category</th>\n",
       "    </tr>\n",
       "  </thead>\n",
       "  <tbody>\n",
       "    <tr>\n",
       "      <th>0</th>\n",
       "      <td>The Beaches</td>\n",
       "      <td>43.676357</td>\n",
       "      <td>-79.293031</td>\n",
       "      <td>Glen Manor Ravine</td>\n",
       "      <td>43.676821</td>\n",
       "      <td>-79.293942</td>\n",
       "      <td>Trail</td>\n",
       "    </tr>\n",
       "    <tr>\n",
       "      <th>1</th>\n",
       "      <td>The Beaches</td>\n",
       "      <td>43.676357</td>\n",
       "      <td>-79.293031</td>\n",
       "      <td>The Big Carrot Natural Food Market</td>\n",
       "      <td>43.678879</td>\n",
       "      <td>-79.297734</td>\n",
       "      <td>Health Food Store</td>\n",
       "    </tr>\n",
       "    <tr>\n",
       "      <th>2</th>\n",
       "      <td>The Beaches</td>\n",
       "      <td>43.676357</td>\n",
       "      <td>-79.293031</td>\n",
       "      <td>Grover Pub and Grub</td>\n",
       "      <td>43.679181</td>\n",
       "      <td>-79.297215</td>\n",
       "      <td>Pub</td>\n",
       "    </tr>\n",
       "    <tr>\n",
       "      <th>3</th>\n",
       "      <td>The Beaches</td>\n",
       "      <td>43.676357</td>\n",
       "      <td>-79.293031</td>\n",
       "      <td>Glen Stewart Park</td>\n",
       "      <td>43.675278</td>\n",
       "      <td>-79.294647</td>\n",
       "      <td>Park</td>\n",
       "    </tr>\n",
       "    <tr>\n",
       "      <th>4</th>\n",
       "      <td>The Beaches</td>\n",
       "      <td>43.676357</td>\n",
       "      <td>-79.293031</td>\n",
       "      <td>Upper Beaches</td>\n",
       "      <td>43.680563</td>\n",
       "      <td>-79.292869</td>\n",
       "      <td>Neighborhood</td>\n",
       "    </tr>\n",
       "  </tbody>\n",
       "</table>\n",
       "</div>"
      ],
      "text/plain": [
       "  Neighborhood  Neighborhood Latitude  Neighborhood Longitude  \\\n",
       "0  The Beaches              43.676357              -79.293031   \n",
       "1  The Beaches              43.676357              -79.293031   \n",
       "2  The Beaches              43.676357              -79.293031   \n",
       "3  The Beaches              43.676357              -79.293031   \n",
       "4  The Beaches              43.676357              -79.293031   \n",
       "\n",
       "                                Venue  Venue Latitude  Venue Longitude  \\\n",
       "0                   Glen Manor Ravine       43.676821       -79.293942   \n",
       "1  The Big Carrot Natural Food Market       43.678879       -79.297734   \n",
       "2                 Grover Pub and Grub       43.679181       -79.297215   \n",
       "3                   Glen Stewart Park       43.675278       -79.294647   \n",
       "4                       Upper Beaches       43.680563       -79.292869   \n",
       "\n",
       "      Venue Category  \n",
       "0              Trail  \n",
       "1  Health Food Store  \n",
       "2                Pub  \n",
       "3               Park  \n",
       "4       Neighborhood  "
      ]
     },
     "execution_count": 27,
     "metadata": {},
     "output_type": "execute_result"
    }
   ],
   "source": [
    "toronto_venues.head()"
   ]
  },
  {
   "cell_type": "code",
   "execution_count": 28,
   "metadata": {},
   "outputs": [
    {
     "name": "stdout",
     "output_type": "stream",
     "text": [
      "<class 'pandas.core.frame.DataFrame'>\n",
      "RangeIndex: 1192 entries, 0 to 1191\n",
      "Data columns (total 7 columns):\n",
      " #   Column                  Non-Null Count  Dtype  \n",
      "---  ------                  --------------  -----  \n",
      " 0   Neighborhood            1192 non-null   object \n",
      " 1   Neighborhood Latitude   1192 non-null   float64\n",
      " 2   Neighborhood Longitude  1192 non-null   float64\n",
      " 3   Venue                   1192 non-null   object \n",
      " 4   Venue Latitude          1192 non-null   float64\n",
      " 5   Venue Longitude         1192 non-null   float64\n",
      " 6   Venue Category          1192 non-null   object \n",
      "dtypes: float64(4), object(3)\n",
      "memory usage: 65.3+ KB\n"
     ]
    }
   ],
   "source": [
    "toronto_venues.info()"
   ]
  },
  {
   "cell_type": "markdown",
   "metadata": {},
   "source": [
    "Perform one-hot-encoding by venue category. This is to be used for clustering later on."
   ]
  },
  {
   "cell_type": "code",
   "execution_count": 29,
   "metadata": {},
   "outputs": [
    {
     "data": {
      "text/html": [
       "<div>\n",
       "<style scoped>\n",
       "    .dataframe tbody tr th:only-of-type {\n",
       "        vertical-align: middle;\n",
       "    }\n",
       "\n",
       "    .dataframe tbody tr th {\n",
       "        vertical-align: top;\n",
       "    }\n",
       "\n",
       "    .dataframe thead th {\n",
       "        text-align: right;\n",
       "    }\n",
       "</style>\n",
       "<table border=\"1\" class=\"dataframe\">\n",
       "  <thead>\n",
       "    <tr style=\"text-align: right;\">\n",
       "      <th></th>\n",
       "      <th>Neighborhood</th>\n",
       "      <th>Airport</th>\n",
       "      <th>Airport Food Court</th>\n",
       "      <th>Airport Gate</th>\n",
       "      <th>Airport Lounge</th>\n",
       "      <th>Airport Service</th>\n",
       "      <th>Airport Terminal</th>\n",
       "      <th>American Restaurant</th>\n",
       "      <th>Antique Shop</th>\n",
       "      <th>Aquarium</th>\n",
       "      <th>...</th>\n",
       "      <th>Theme Restaurant</th>\n",
       "      <th>Toy / Game Store</th>\n",
       "      <th>Trail</th>\n",
       "      <th>Train Station</th>\n",
       "      <th>Vegetarian / Vegan Restaurant</th>\n",
       "      <th>Video Game Store</th>\n",
       "      <th>Vietnamese Restaurant</th>\n",
       "      <th>Wine Bar</th>\n",
       "      <th>Wings Joint</th>\n",
       "      <th>Yoga Studio</th>\n",
       "    </tr>\n",
       "  </thead>\n",
       "  <tbody>\n",
       "    <tr>\n",
       "      <th>0</th>\n",
       "      <td>The Beaches</td>\n",
       "      <td>0</td>\n",
       "      <td>0</td>\n",
       "      <td>0</td>\n",
       "      <td>0</td>\n",
       "      <td>0</td>\n",
       "      <td>0</td>\n",
       "      <td>0</td>\n",
       "      <td>0</td>\n",
       "      <td>0</td>\n",
       "      <td>...</td>\n",
       "      <td>0</td>\n",
       "      <td>0</td>\n",
       "      <td>1</td>\n",
       "      <td>0</td>\n",
       "      <td>0</td>\n",
       "      <td>0</td>\n",
       "      <td>0</td>\n",
       "      <td>0</td>\n",
       "      <td>0</td>\n",
       "      <td>0</td>\n",
       "    </tr>\n",
       "    <tr>\n",
       "      <th>1</th>\n",
       "      <td>The Beaches</td>\n",
       "      <td>0</td>\n",
       "      <td>0</td>\n",
       "      <td>0</td>\n",
       "      <td>0</td>\n",
       "      <td>0</td>\n",
       "      <td>0</td>\n",
       "      <td>0</td>\n",
       "      <td>0</td>\n",
       "      <td>0</td>\n",
       "      <td>...</td>\n",
       "      <td>0</td>\n",
       "      <td>0</td>\n",
       "      <td>0</td>\n",
       "      <td>0</td>\n",
       "      <td>0</td>\n",
       "      <td>0</td>\n",
       "      <td>0</td>\n",
       "      <td>0</td>\n",
       "      <td>0</td>\n",
       "      <td>0</td>\n",
       "    </tr>\n",
       "    <tr>\n",
       "      <th>2</th>\n",
       "      <td>The Beaches</td>\n",
       "      <td>0</td>\n",
       "      <td>0</td>\n",
       "      <td>0</td>\n",
       "      <td>0</td>\n",
       "      <td>0</td>\n",
       "      <td>0</td>\n",
       "      <td>0</td>\n",
       "      <td>0</td>\n",
       "      <td>0</td>\n",
       "      <td>...</td>\n",
       "      <td>0</td>\n",
       "      <td>0</td>\n",
       "      <td>0</td>\n",
       "      <td>0</td>\n",
       "      <td>0</td>\n",
       "      <td>0</td>\n",
       "      <td>0</td>\n",
       "      <td>0</td>\n",
       "      <td>0</td>\n",
       "      <td>0</td>\n",
       "    </tr>\n",
       "    <tr>\n",
       "      <th>3</th>\n",
       "      <td>The Beaches</td>\n",
       "      <td>0</td>\n",
       "      <td>0</td>\n",
       "      <td>0</td>\n",
       "      <td>0</td>\n",
       "      <td>0</td>\n",
       "      <td>0</td>\n",
       "      <td>0</td>\n",
       "      <td>0</td>\n",
       "      <td>0</td>\n",
       "      <td>...</td>\n",
       "      <td>0</td>\n",
       "      <td>0</td>\n",
       "      <td>0</td>\n",
       "      <td>0</td>\n",
       "      <td>0</td>\n",
       "      <td>0</td>\n",
       "      <td>0</td>\n",
       "      <td>0</td>\n",
       "      <td>0</td>\n",
       "      <td>0</td>\n",
       "    </tr>\n",
       "    <tr>\n",
       "      <th>4</th>\n",
       "      <td>The Beaches</td>\n",
       "      <td>0</td>\n",
       "      <td>0</td>\n",
       "      <td>0</td>\n",
       "      <td>0</td>\n",
       "      <td>0</td>\n",
       "      <td>0</td>\n",
       "      <td>0</td>\n",
       "      <td>0</td>\n",
       "      <td>0</td>\n",
       "      <td>...</td>\n",
       "      <td>0</td>\n",
       "      <td>0</td>\n",
       "      <td>0</td>\n",
       "      <td>0</td>\n",
       "      <td>0</td>\n",
       "      <td>0</td>\n",
       "      <td>0</td>\n",
       "      <td>0</td>\n",
       "      <td>0</td>\n",
       "      <td>0</td>\n",
       "    </tr>\n",
       "  </tbody>\n",
       "</table>\n",
       "<p>5 rows × 210 columns</p>\n",
       "</div>"
      ],
      "text/plain": [
       "  Neighborhood  Airport  Airport Food Court  Airport Gate  Airport Lounge  \\\n",
       "0  The Beaches        0                   0             0               0   \n",
       "1  The Beaches        0                   0             0               0   \n",
       "2  The Beaches        0                   0             0               0   \n",
       "3  The Beaches        0                   0             0               0   \n",
       "4  The Beaches        0                   0             0               0   \n",
       "\n",
       "   Airport Service  Airport Terminal  American Restaurant  Antique Shop  \\\n",
       "0                0                 0                    0             0   \n",
       "1                0                 0                    0             0   \n",
       "2                0                 0                    0             0   \n",
       "3                0                 0                    0             0   \n",
       "4                0                 0                    0             0   \n",
       "\n",
       "   Aquarium  ...  Theme Restaurant  Toy / Game Store  Trail  Train Station  \\\n",
       "0         0  ...                 0                 0      1              0   \n",
       "1         0  ...                 0                 0      0              0   \n",
       "2         0  ...                 0                 0      0              0   \n",
       "3         0  ...                 0                 0      0              0   \n",
       "4         0  ...                 0                 0      0              0   \n",
       "\n",
       "   Vegetarian / Vegan Restaurant  Video Game Store  Vietnamese Restaurant  \\\n",
       "0                              0                 0                      0   \n",
       "1                              0                 0                      0   \n",
       "2                              0                 0                      0   \n",
       "3                              0                 0                      0   \n",
       "4                              0                 0                      0   \n",
       "\n",
       "   Wine Bar  Wings Joint  Yoga Studio  \n",
       "0         0            0            0  \n",
       "1         0            0            0  \n",
       "2         0            0            0  \n",
       "3         0            0            0  \n",
       "4         0            0            0  \n",
       "\n",
       "[5 rows x 210 columns]"
      ]
     },
     "execution_count": 29,
     "metadata": {},
     "output_type": "execute_result"
    }
   ],
   "source": [
    "# One hot encoding\n",
    "toronto_onehot = pd.get_dummies(toronto_venues[['Venue Category']], prefix=\"\", prefix_sep=\"\")\n",
    "\n",
    "# Add neighborhood column back to dataframe\n",
    "toronto_onehot['Neighborhood'] = toronto_venues['Neighborhood'] \n",
    "\n",
    "# Move neighborhood column to the first column\n",
    "neighborhood = toronto_onehot['Neighborhood']\n",
    "toronto_onehot.drop(columns='Neighborhood', inplace=True)\n",
    "toronto_onehot.insert(0, 'Neighborhood', neighborhood)\n",
    "\n",
    "toronto_onehot.head()"
   ]
  },
  {
   "cell_type": "code",
   "execution_count": 30,
   "metadata": {},
   "outputs": [
    {
     "data": {
      "text/plain": [
       "(1192, 210)"
      ]
     },
     "execution_count": 30,
     "metadata": {},
     "output_type": "execute_result"
    }
   ],
   "source": [
    "toronto_onehot.shape"
   ]
  },
  {
   "cell_type": "markdown",
   "metadata": {},
   "source": [
    "Get the mean of each venue category per neighborhood."
   ]
  },
  {
   "cell_type": "code",
   "execution_count": 31,
   "metadata": {},
   "outputs": [],
   "source": [
    "toronto_grouped = toronto_onehot.groupby('Neighborhood').mean().reset_index()"
   ]
  },
  {
   "cell_type": "code",
   "execution_count": 32,
   "metadata": {},
   "outputs": [
    {
     "data": {
      "text/html": [
       "<div>\n",
       "<style scoped>\n",
       "    .dataframe tbody tr th:only-of-type {\n",
       "        vertical-align: middle;\n",
       "    }\n",
       "\n",
       "    .dataframe tbody tr th {\n",
       "        vertical-align: top;\n",
       "    }\n",
       "\n",
       "    .dataframe thead th {\n",
       "        text-align: right;\n",
       "    }\n",
       "</style>\n",
       "<table border=\"1\" class=\"dataframe\">\n",
       "  <thead>\n",
       "    <tr style=\"text-align: right;\">\n",
       "      <th></th>\n",
       "      <th>Neighborhood</th>\n",
       "      <th>Airport</th>\n",
       "      <th>Airport Food Court</th>\n",
       "      <th>Airport Gate</th>\n",
       "      <th>Airport Lounge</th>\n",
       "      <th>Airport Service</th>\n",
       "      <th>Airport Terminal</th>\n",
       "      <th>American Restaurant</th>\n",
       "      <th>Antique Shop</th>\n",
       "      <th>Aquarium</th>\n",
       "      <th>...</th>\n",
       "      <th>Theme Restaurant</th>\n",
       "      <th>Toy / Game Store</th>\n",
       "      <th>Trail</th>\n",
       "      <th>Train Station</th>\n",
       "      <th>Vegetarian / Vegan Restaurant</th>\n",
       "      <th>Video Game Store</th>\n",
       "      <th>Vietnamese Restaurant</th>\n",
       "      <th>Wine Bar</th>\n",
       "      <th>Wings Joint</th>\n",
       "      <th>Yoga Studio</th>\n",
       "    </tr>\n",
       "  </thead>\n",
       "  <tbody>\n",
       "    <tr>\n",
       "      <th>0</th>\n",
       "      <td>Adelaide, King, Richmond</td>\n",
       "      <td>0.000000</td>\n",
       "      <td>0.000000</td>\n",
       "      <td>0.000000</td>\n",
       "      <td>0.000000</td>\n",
       "      <td>0.000000</td>\n",
       "      <td>0.000000</td>\n",
       "      <td>0.04</td>\n",
       "      <td>0.0</td>\n",
       "      <td>0.0</td>\n",
       "      <td>...</td>\n",
       "      <td>0.0</td>\n",
       "      <td>0.0</td>\n",
       "      <td>0.0</td>\n",
       "      <td>0.0</td>\n",
       "      <td>0.02</td>\n",
       "      <td>0.0</td>\n",
       "      <td>0.0</td>\n",
       "      <td>0.0</td>\n",
       "      <td>0.0</td>\n",
       "      <td>0.000000</td>\n",
       "    </tr>\n",
       "    <tr>\n",
       "      <th>1</th>\n",
       "      <td>Berczy Park</td>\n",
       "      <td>0.000000</td>\n",
       "      <td>0.000000</td>\n",
       "      <td>0.000000</td>\n",
       "      <td>0.000000</td>\n",
       "      <td>0.000000</td>\n",
       "      <td>0.000000</td>\n",
       "      <td>0.00</td>\n",
       "      <td>0.0</td>\n",
       "      <td>0.0</td>\n",
       "      <td>...</td>\n",
       "      <td>0.0</td>\n",
       "      <td>0.0</td>\n",
       "      <td>0.0</td>\n",
       "      <td>0.0</td>\n",
       "      <td>0.02</td>\n",
       "      <td>0.0</td>\n",
       "      <td>0.0</td>\n",
       "      <td>0.0</td>\n",
       "      <td>0.0</td>\n",
       "      <td>0.000000</td>\n",
       "    </tr>\n",
       "    <tr>\n",
       "      <th>2</th>\n",
       "      <td>Brockton, Exhibition Place, Parkdale Village</td>\n",
       "      <td>0.000000</td>\n",
       "      <td>0.000000</td>\n",
       "      <td>0.000000</td>\n",
       "      <td>0.000000</td>\n",
       "      <td>0.000000</td>\n",
       "      <td>0.000000</td>\n",
       "      <td>0.00</td>\n",
       "      <td>0.0</td>\n",
       "      <td>0.0</td>\n",
       "      <td>...</td>\n",
       "      <td>0.0</td>\n",
       "      <td>0.0</td>\n",
       "      <td>0.0</td>\n",
       "      <td>0.0</td>\n",
       "      <td>0.00</td>\n",
       "      <td>0.0</td>\n",
       "      <td>0.0</td>\n",
       "      <td>0.0</td>\n",
       "      <td>0.0</td>\n",
       "      <td>0.043478</td>\n",
       "    </tr>\n",
       "    <tr>\n",
       "      <th>3</th>\n",
       "      <td>Business Reply Mail Processing Centre 969 Eastern</td>\n",
       "      <td>0.000000</td>\n",
       "      <td>0.000000</td>\n",
       "      <td>0.000000</td>\n",
       "      <td>0.000000</td>\n",
       "      <td>0.000000</td>\n",
       "      <td>0.000000</td>\n",
       "      <td>0.00</td>\n",
       "      <td>0.0</td>\n",
       "      <td>0.0</td>\n",
       "      <td>...</td>\n",
       "      <td>0.0</td>\n",
       "      <td>0.0</td>\n",
       "      <td>0.0</td>\n",
       "      <td>0.0</td>\n",
       "      <td>0.00</td>\n",
       "      <td>0.0</td>\n",
       "      <td>0.0</td>\n",
       "      <td>0.0</td>\n",
       "      <td>0.0</td>\n",
       "      <td>0.052632</td>\n",
       "    </tr>\n",
       "    <tr>\n",
       "      <th>4</th>\n",
       "      <td>CN Tower, Bathurst Quay, Island airport, Harbo...</td>\n",
       "      <td>0.058824</td>\n",
       "      <td>0.058824</td>\n",
       "      <td>0.058824</td>\n",
       "      <td>0.117647</td>\n",
       "      <td>0.176471</td>\n",
       "      <td>0.117647</td>\n",
       "      <td>0.00</td>\n",
       "      <td>0.0</td>\n",
       "      <td>0.0</td>\n",
       "      <td>...</td>\n",
       "      <td>0.0</td>\n",
       "      <td>0.0</td>\n",
       "      <td>0.0</td>\n",
       "      <td>0.0</td>\n",
       "      <td>0.00</td>\n",
       "      <td>0.0</td>\n",
       "      <td>0.0</td>\n",
       "      <td>0.0</td>\n",
       "      <td>0.0</td>\n",
       "      <td>0.000000</td>\n",
       "    </tr>\n",
       "  </tbody>\n",
       "</table>\n",
       "<p>5 rows × 210 columns</p>\n",
       "</div>"
      ],
      "text/plain": [
       "                                        Neighborhood   Airport  \\\n",
       "0                           Adelaide, King, Richmond  0.000000   \n",
       "1                                        Berczy Park  0.000000   \n",
       "2       Brockton, Exhibition Place, Parkdale Village  0.000000   \n",
       "3  Business Reply Mail Processing Centre 969 Eastern  0.000000   \n",
       "4  CN Tower, Bathurst Quay, Island airport, Harbo...  0.058824   \n",
       "\n",
       "   Airport Food Court  Airport Gate  Airport Lounge  Airport Service  \\\n",
       "0            0.000000      0.000000        0.000000         0.000000   \n",
       "1            0.000000      0.000000        0.000000         0.000000   \n",
       "2            0.000000      0.000000        0.000000         0.000000   \n",
       "3            0.000000      0.000000        0.000000         0.000000   \n",
       "4            0.058824      0.058824        0.117647         0.176471   \n",
       "\n",
       "   Airport Terminal  American Restaurant  Antique Shop  Aquarium  ...  \\\n",
       "0          0.000000                 0.04           0.0       0.0  ...   \n",
       "1          0.000000                 0.00           0.0       0.0  ...   \n",
       "2          0.000000                 0.00           0.0       0.0  ...   \n",
       "3          0.000000                 0.00           0.0       0.0  ...   \n",
       "4          0.117647                 0.00           0.0       0.0  ...   \n",
       "\n",
       "   Theme Restaurant  Toy / Game Store  Trail  Train Station  \\\n",
       "0               0.0               0.0    0.0            0.0   \n",
       "1               0.0               0.0    0.0            0.0   \n",
       "2               0.0               0.0    0.0            0.0   \n",
       "3               0.0               0.0    0.0            0.0   \n",
       "4               0.0               0.0    0.0            0.0   \n",
       "\n",
       "   Vegetarian / Vegan Restaurant  Video Game Store  Vietnamese Restaurant  \\\n",
       "0                           0.02               0.0                    0.0   \n",
       "1                           0.02               0.0                    0.0   \n",
       "2                           0.00               0.0                    0.0   \n",
       "3                           0.00               0.0                    0.0   \n",
       "4                           0.00               0.0                    0.0   \n",
       "\n",
       "   Wine Bar  Wings Joint  Yoga Studio  \n",
       "0       0.0          0.0     0.000000  \n",
       "1       0.0          0.0     0.000000  \n",
       "2       0.0          0.0     0.043478  \n",
       "3       0.0          0.0     0.052632  \n",
       "4       0.0          0.0     0.000000  \n",
       "\n",
       "[5 rows x 210 columns]"
      ]
     },
     "execution_count": 32,
     "metadata": {},
     "output_type": "execute_result"
    }
   ],
   "source": [
    "toronto_grouped.head()"
   ]
  },
  {
   "cell_type": "markdown",
   "metadata": {},
   "source": [
    "Take top 10 venue categories for each neighborhood and sort by mean. See the function in utils.py for additional details."
   ]
  },
  {
   "cell_type": "code",
   "execution_count": 33,
   "metadata": {},
   "outputs": [],
   "source": [
    "toronto_venues_sorted = utils.sort_neighborhood_venues(toronto_grouped)"
   ]
  },
  {
   "cell_type": "code",
   "execution_count": 34,
   "metadata": {},
   "outputs": [
    {
     "data": {
      "text/html": [
       "<div>\n",
       "<style scoped>\n",
       "    .dataframe tbody tr th:only-of-type {\n",
       "        vertical-align: middle;\n",
       "    }\n",
       "\n",
       "    .dataframe tbody tr th {\n",
       "        vertical-align: top;\n",
       "    }\n",
       "\n",
       "    .dataframe thead th {\n",
       "        text-align: right;\n",
       "    }\n",
       "</style>\n",
       "<table border=\"1\" class=\"dataframe\">\n",
       "  <thead>\n",
       "    <tr style=\"text-align: right;\">\n",
       "      <th></th>\n",
       "      <th>Neighborhood</th>\n",
       "      <th>1st Most Common Venue</th>\n",
       "      <th>2nd Most Common Venue</th>\n",
       "      <th>3rd Most Common Venue</th>\n",
       "      <th>4th Most Common Venue</th>\n",
       "      <th>5th Most Common Venue</th>\n",
       "      <th>6th Most Common Venue</th>\n",
       "      <th>7th Most Common Venue</th>\n",
       "      <th>8th Most Common Venue</th>\n",
       "      <th>9th Most Common Venue</th>\n",
       "      <th>10th Most Common Venue</th>\n",
       "    </tr>\n",
       "  </thead>\n",
       "  <tbody>\n",
       "    <tr>\n",
       "      <th>0</th>\n",
       "      <td>Adelaide, King, Richmond</td>\n",
       "      <td>Steakhouse</td>\n",
       "      <td>Café</td>\n",
       "      <td>Hotel</td>\n",
       "      <td>Seafood Restaurant</td>\n",
       "      <td>Coffee Shop</td>\n",
       "      <td>Gastropub</td>\n",
       "      <td>American Restaurant</td>\n",
       "      <td>Pizza Place</td>\n",
       "      <td>Asian Restaurant</td>\n",
       "      <td>Jazz Club</td>\n",
       "    </tr>\n",
       "    <tr>\n",
       "      <th>1</th>\n",
       "      <td>Berczy Park</td>\n",
       "      <td>Coffee Shop</td>\n",
       "      <td>Cocktail Bar</td>\n",
       "      <td>Seafood Restaurant</td>\n",
       "      <td>Steakhouse</td>\n",
       "      <td>Beer Bar</td>\n",
       "      <td>Farmers Market</td>\n",
       "      <td>Bakery</td>\n",
       "      <td>Cheese Shop</td>\n",
       "      <td>Café</td>\n",
       "      <td>Italian Restaurant</td>\n",
       "    </tr>\n",
       "    <tr>\n",
       "      <th>2</th>\n",
       "      <td>Brockton, Exhibition Place, Parkdale Village</td>\n",
       "      <td>Café</td>\n",
       "      <td>Performing Arts Venue</td>\n",
       "      <td>Breakfast Spot</td>\n",
       "      <td>Coffee Shop</td>\n",
       "      <td>Yoga Studio</td>\n",
       "      <td>Climbing Gym</td>\n",
       "      <td>Burrito Place</td>\n",
       "      <td>Restaurant</td>\n",
       "      <td>Italian Restaurant</td>\n",
       "      <td>Stadium</td>\n",
       "    </tr>\n",
       "    <tr>\n",
       "      <th>3</th>\n",
       "      <td>Business Reply Mail Processing Centre 969 Eastern</td>\n",
       "      <td>Light Rail Station</td>\n",
       "      <td>Yoga Studio</td>\n",
       "      <td>Auto Workshop</td>\n",
       "      <td>Comic Shop</td>\n",
       "      <td>Pizza Place</td>\n",
       "      <td>Recording Studio</td>\n",
       "      <td>Restaurant</td>\n",
       "      <td>Burrito Place</td>\n",
       "      <td>Brewery</td>\n",
       "      <td>Skate Park</td>\n",
       "    </tr>\n",
       "    <tr>\n",
       "      <th>4</th>\n",
       "      <td>CN Tower, Bathurst Quay, Island airport, Harbo...</td>\n",
       "      <td>Airport Service</td>\n",
       "      <td>Airport Lounge</td>\n",
       "      <td>Airport Terminal</td>\n",
       "      <td>Airport</td>\n",
       "      <td>Harbor / Marina</td>\n",
       "      <td>Plane</td>\n",
       "      <td>Coffee Shop</td>\n",
       "      <td>Sculpture Garden</td>\n",
       "      <td>Boat or Ferry</td>\n",
       "      <td>Bar</td>\n",
       "    </tr>\n",
       "  </tbody>\n",
       "</table>\n",
       "</div>"
      ],
      "text/plain": [
       "                                        Neighborhood 1st Most Common Venue  \\\n",
       "0                           Adelaide, King, Richmond            Steakhouse   \n",
       "1                                        Berczy Park           Coffee Shop   \n",
       "2       Brockton, Exhibition Place, Parkdale Village                  Café   \n",
       "3  Business Reply Mail Processing Centre 969 Eastern    Light Rail Station   \n",
       "4  CN Tower, Bathurst Quay, Island airport, Harbo...       Airport Service   \n",
       "\n",
       "   2nd Most Common Venue 3rd Most Common Venue 4th Most Common Venue  \\\n",
       "0                   Café                 Hotel    Seafood Restaurant   \n",
       "1           Cocktail Bar    Seafood Restaurant            Steakhouse   \n",
       "2  Performing Arts Venue        Breakfast Spot           Coffee Shop   \n",
       "3            Yoga Studio         Auto Workshop            Comic Shop   \n",
       "4         Airport Lounge      Airport Terminal               Airport   \n",
       "\n",
       "  5th Most Common Venue 6th Most Common Venue 7th Most Common Venue  \\\n",
       "0           Coffee Shop             Gastropub   American Restaurant   \n",
       "1              Beer Bar        Farmers Market                Bakery   \n",
       "2           Yoga Studio          Climbing Gym         Burrito Place   \n",
       "3           Pizza Place      Recording Studio            Restaurant   \n",
       "4       Harbor / Marina                 Plane           Coffee Shop   \n",
       "\n",
       "  8th Most Common Venue 9th Most Common Venue 10th Most Common Venue  \n",
       "0           Pizza Place      Asian Restaurant              Jazz Club  \n",
       "1           Cheese Shop                  Café     Italian Restaurant  \n",
       "2            Restaurant    Italian Restaurant                Stadium  \n",
       "3         Burrito Place               Brewery             Skate Park  \n",
       "4      Sculpture Garden         Boat or Ferry                    Bar  "
      ]
     },
     "execution_count": 34,
     "metadata": {},
     "output_type": "execute_result"
    }
   ],
   "source": [
    "toronto_venues_sorted.head()"
   ]
  },
  {
   "cell_type": "markdown",
   "metadata": {},
   "source": [
    "Perform clustering on the neighborhoods. First, identify the number of clusters to be used with the elbow method."
   ]
  },
  {
   "cell_type": "code",
   "execution_count": 35,
   "metadata": {},
   "outputs": [],
   "source": [
    "X = toronto_grouped.drop(columns=['Neighborhood'])"
   ]
  },
  {
   "cell_type": "code",
   "execution_count": 36,
   "metadata": {},
   "outputs": [
    {
     "data": {
      "image/png": "[encoded data removed]",
      "text/plain": [
       "<Figure size 432x288 with 1 Axes>"
      ]
     },
     "metadata": {},
     "output_type": "display_data"
    }
   ],
   "source": [
    "# Drawing inspiration from https://pythonprogramminglanguage.com/kmeans-elbow-method/\n",
    "\n",
    "distortions = []\n",
    "K = range(1,10)\n",
    "for k in K:\n",
    "    kmeans = KMeans(n_clusters=k, n_init=50).fit(X)\n",
    "    kmeans.fit(X)\n",
    "    distortions.append(sum(np.min(cdist(X, kmeans.cluster_centers_, 'euclidean'), axis=1)) / X.shape[0])\n",
    "\n",
    "# Plot the elbow\n",
    "plt.plot(K, distortions, 'bx-')\n",
    "plt.xlabel('k')\n",
    "plt.ylabel('Distortion')\n",
    "plt.title('The Elbow Method showing the optimal k')\n",
    "plt.show()"
   ]
  },
  {
   "cell_type": "markdown",
   "metadata": {},
   "source": [
    "The elbow method is not obvious here at all. There seems to be slight changes to slope starting with 3 clusters, so let's use that. That's also a decent number of clusters to analyze manually later on."
   ]
  },
  {
   "cell_type": "code",
   "execution_count": 37,
   "metadata": {},
   "outputs": [],
   "source": [
    "kclusters = 3\n",
    "kmeans = KMeans(n_clusters=kclusters, n_init=50, random_state=42)\n",
    "kmeans = kmeans.fit(X)"
   ]
  },
  {
   "cell_type": "code",
   "execution_count": 38,
   "metadata": {},
   "outputs": [],
   "source": [
    "toronto_venues_sorted.insert(0, 'Cluster Labels', kmeans.labels_)"
   ]
  },
  {
   "cell_type": "code",
   "execution_count": 39,
   "metadata": {},
   "outputs": [],
   "source": [
    "toronto_merged = df_tor.merge(toronto_venues_sorted, left_on='Neighbourhood', right_on='Neighborhood').drop(columns='Neighbourhood')"
   ]
  },
  {
   "cell_type": "code",
   "execution_count": 40,
   "metadata": {},
   "outputs": [
    {
     "data": {
      "text/html": [
       "<div>\n",
       "<style scoped>\n",
       "    .dataframe tbody tr th:only-of-type {\n",
       "        vertical-align: middle;\n",
       "    }\n",
       "\n",
       "    .dataframe tbody tr th {\n",
       "        vertical-align: top;\n",
       "    }\n",
       "\n",
       "    .dataframe thead th {\n",
       "        text-align: right;\n",
       "    }\n",
       "</style>\n",
       "<table border=\"1\" class=\"dataframe\">\n",
       "  <thead>\n",
       "    <tr style=\"text-align: right;\">\n",
       "      <th></th>\n",
       "      <th>Postcode</th>\n",
       "      <th>Borough</th>\n",
       "      <th>Latitude</th>\n",
       "      <th>Longitude</th>\n",
       "      <th>Cluster Labels</th>\n",
       "      <th>Neighborhood</th>\n",
       "      <th>1st Most Common Venue</th>\n",
       "      <th>2nd Most Common Venue</th>\n",
       "      <th>3rd Most Common Venue</th>\n",
       "      <th>4th Most Common Venue</th>\n",
       "      <th>5th Most Common Venue</th>\n",
       "      <th>6th Most Common Venue</th>\n",
       "      <th>7th Most Common Venue</th>\n",
       "      <th>8th Most Common Venue</th>\n",
       "      <th>9th Most Common Venue</th>\n",
       "      <th>10th Most Common Venue</th>\n",
       "    </tr>\n",
       "  </thead>\n",
       "  <tbody>\n",
       "    <tr>\n",
       "      <th>0</th>\n",
       "      <td>M4E</td>\n",
       "      <td>East Toronto</td>\n",
       "      <td>43.676357</td>\n",
       "      <td>-79.293031</td>\n",
       "      <td>1</td>\n",
       "      <td>The Beaches</td>\n",
       "      <td>Park</td>\n",
       "      <td>Trail</td>\n",
       "      <td>Health Food Store</td>\n",
       "      <td>Pub</td>\n",
       "      <td>Yoga Studio</td>\n",
       "      <td>Cupcake Shop</td>\n",
       "      <td>Eastern European Restaurant</td>\n",
       "      <td>Dumpling Restaurant</td>\n",
       "      <td>Doner Restaurant</td>\n",
       "      <td>Dog Run</td>\n",
       "    </tr>\n",
       "    <tr>\n",
       "      <th>1</th>\n",
       "      <td>M4K</td>\n",
       "      <td>East Toronto</td>\n",
       "      <td>43.679557</td>\n",
       "      <td>-79.352188</td>\n",
       "      <td>0</td>\n",
       "      <td>The Danforth West, Riverdale</td>\n",
       "      <td>Greek Restaurant</td>\n",
       "      <td>Italian Restaurant</td>\n",
       "      <td>Coffee Shop</td>\n",
       "      <td>Bookstore</td>\n",
       "      <td>Ice Cream Shop</td>\n",
       "      <td>Furniture / Home Store</td>\n",
       "      <td>Fruit &amp; Vegetable Store</td>\n",
       "      <td>Pub</td>\n",
       "      <td>Pizza Place</td>\n",
       "      <td>Liquor Store</td>\n",
       "    </tr>\n",
       "    <tr>\n",
       "      <th>2</th>\n",
       "      <td>M4L</td>\n",
       "      <td>East Toronto</td>\n",
       "      <td>43.668999</td>\n",
       "      <td>-79.315572</td>\n",
       "      <td>0</td>\n",
       "      <td>The Beaches West, India Bazaar</td>\n",
       "      <td>Park</td>\n",
       "      <td>Liquor Store</td>\n",
       "      <td>Movie Theater</td>\n",
       "      <td>Ice Cream Shop</td>\n",
       "      <td>Sushi Restaurant</td>\n",
       "      <td>Fish &amp; Chips Shop</td>\n",
       "      <td>Brewery</td>\n",
       "      <td>Pub</td>\n",
       "      <td>Italian Restaurant</td>\n",
       "      <td>Fast Food Restaurant</td>\n",
       "    </tr>\n",
       "    <tr>\n",
       "      <th>3</th>\n",
       "      <td>M4M</td>\n",
       "      <td>East Toronto</td>\n",
       "      <td>43.659526</td>\n",
       "      <td>-79.340923</td>\n",
       "      <td>0</td>\n",
       "      <td>Studio District</td>\n",
       "      <td>Café</td>\n",
       "      <td>Coffee Shop</td>\n",
       "      <td>Brewery</td>\n",
       "      <td>Bakery</td>\n",
       "      <td>Italian Restaurant</td>\n",
       "      <td>American Restaurant</td>\n",
       "      <td>Gastropub</td>\n",
       "      <td>Park</td>\n",
       "      <td>Sandwich Place</td>\n",
       "      <td>Cheese Shop</td>\n",
       "    </tr>\n",
       "    <tr>\n",
       "      <th>4</th>\n",
       "      <td>M4N</td>\n",
       "      <td>Central Toronto</td>\n",
       "      <td>43.728020</td>\n",
       "      <td>-79.388790</td>\n",
       "      <td>1</td>\n",
       "      <td>Lawrence Park</td>\n",
       "      <td>Photography Studio</td>\n",
       "      <td>Park</td>\n",
       "      <td>Swim School</td>\n",
       "      <td>Bus Line</td>\n",
       "      <td>Deli / Bodega</td>\n",
       "      <td>Electronics Store</td>\n",
       "      <td>Eastern European Restaurant</td>\n",
       "      <td>Dumpling Restaurant</td>\n",
       "      <td>Doner Restaurant</td>\n",
       "      <td>Dog Run</td>\n",
       "    </tr>\n",
       "  </tbody>\n",
       "</table>\n",
       "</div>"
      ],
      "text/plain": [
       "  Postcode          Borough   Latitude  Longitude  Cluster Labels  \\\n",
       "0      M4E     East Toronto  43.676357 -79.293031               1   \n",
       "1      M4K     East Toronto  43.679557 -79.352188               0   \n",
       "2      M4L     East Toronto  43.668999 -79.315572               0   \n",
       "3      M4M     East Toronto  43.659526 -79.340923               0   \n",
       "4      M4N  Central Toronto  43.728020 -79.388790               1   \n",
       "\n",
       "                     Neighborhood 1st Most Common Venue 2nd Most Common Venue  \\\n",
       "0                     The Beaches                  Park                 Trail   \n",
       "1    The Danforth West, Riverdale      Greek Restaurant    Italian Restaurant   \n",
       "2  The Beaches West, India Bazaar                  Park          Liquor Store   \n",
       "3                 Studio District                  Café           Coffee Shop   \n",
       "4                   Lawrence Park    Photography Studio                  Park   \n",
       "\n",
       "  3rd Most Common Venue 4th Most Common Venue 5th Most Common Venue  \\\n",
       "0     Health Food Store                   Pub           Yoga Studio   \n",
       "1           Coffee Shop             Bookstore        Ice Cream Shop   \n",
       "2         Movie Theater        Ice Cream Shop      Sushi Restaurant   \n",
       "3               Brewery                Bakery    Italian Restaurant   \n",
       "4           Swim School              Bus Line         Deli / Bodega   \n",
       "\n",
       "    6th Most Common Venue        7th Most Common Venue 8th Most Common Venue  \\\n",
       "0            Cupcake Shop  Eastern European Restaurant   Dumpling Restaurant   \n",
       "1  Furniture / Home Store      Fruit & Vegetable Store                   Pub   \n",
       "2       Fish & Chips Shop                      Brewery                   Pub   \n",
       "3     American Restaurant                    Gastropub                  Park   \n",
       "4       Electronics Store  Eastern European Restaurant   Dumpling Restaurant   \n",
       "\n",
       "  9th Most Common Venue 10th Most Common Venue  \n",
       "0      Doner Restaurant                Dog Run  \n",
       "1           Pizza Place           Liquor Store  \n",
       "2    Italian Restaurant   Fast Food Restaurant  \n",
       "3        Sandwich Place            Cheese Shop  \n",
       "4      Doner Restaurant                Dog Run  "
      ]
     },
     "execution_count": 40,
     "metadata": {},
     "output_type": "execute_result"
    }
   ],
   "source": [
    "toronto_merged.head()"
   ]
  },
  {
   "cell_type": "markdown",
   "metadata": {},
   "source": [
    "Plot neighborhoods colored by the corresponding cluster they were assigned to."
   ]
  },
  {
   "cell_type": "code",
   "execution_count": 41,
   "metadata": {},
   "outputs": [
    {
     "data": {
      "text/html": [
       "<div style=\"width:100%;\"><div style=\"position:relative;width:100%;height:0;padding-bottom:60%;\"><iframe src=\"data:text/html;charset=utf-8;base64,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\" style=\"position:absolute;width:100%;height:100%;left:0;top:0;border:none !important;\" allowfullscreen webkitallowfullscreen mozallowfullscreen></iframe></div></div>"
      ],
      "text/plain": [
       "<folium.folium.Map at 0x12898c850>"
      ]
     },
     "execution_count": 41,
     "metadata": {},
     "output_type": "execute_result"
    }
   ],
   "source": [
    "map_clusters = folium.Map(location=[toronto_lat, toronto_lng], zoom_start=12)\n",
    "\n",
    "colors = ['darkred', 'green', 'darkblue']\n",
    "\n",
    "for lat, lon, neighborhood, cluster in zip(toronto_merged['Latitude'], toronto_merged['Longitude'], toronto_merged['Neighborhood'], toronto_merged['Cluster Labels']):\n",
    "    label = folium.Popup(str(neighborhood) + ' Cluster ' + str(cluster), parse_html=True)\n",
    "    folium.CircleMarker(\n",
    "    [lat, lon],\n",
    "    radius=5,\n",
    "    popup=label,\n",
    "    color=colors[cluster],\n",
    "    fill=True,\n",
    "    fill_color=colors[cluster],\n",
    "    fill_opacity=0.7).add_to(map_clusters)\n",
    "    \n",
    "map_clusters"
   ]
  }
 ],
 "metadata": {
  "kernelspec": {
   "display_name": "dspc",
   "language": "python",
   "name": "dspc"
  },
  "language_info": {
   "codemirror_mode": {
    "name": "ipython",
    "version": 3
   },
   "file_extension": ".py",
   "mimetype": "text/x-python",
   "name": "python",
   "nbconvert_exporter": "python",
   "pygments_lexer": "ipython3",
   "version": "3.8.1"
  }
 },
 "nbformat": 4,
 "nbformat_minor": 4
}
